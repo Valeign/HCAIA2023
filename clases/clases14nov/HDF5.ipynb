{
 "cells": [
  {
   "cell_type": "code",
   "execution_count": 1,
   "id": "46b5b05b",
   "metadata": {},
   "outputs": [],
   "source": [
    "import h5py "
   ]
  },
  {
   "cell_type": "code",
   "execution_count": 2,
   "id": "69e7b82b",
   "metadata": {},
   "outputs": [],
   "source": [
    "# Creamos un archivo en modo escritura\n",
    "f = h5py.File(\"test.h5\", \"w\")"
   ]
  },
  {
   "cell_type": "code",
   "execution_count": 3,
   "id": "72239a36",
   "metadata": {},
   "outputs": [],
   "source": [
    "f.close()"
   ]
  },
  {
   "cell_type": "code",
   "execution_count": 4,
   "id": "27969536",
   "metadata": {},
   "outputs": [],
   "source": [
    "# Abrimos el archivo anterior en modo lectura y escritura:\n",
    "f = h5py.File(\"test.h5\", \"r+\") "
   ]
  },
  {
   "cell_type": "code",
   "execution_count": 5,
   "id": "43497052",
   "metadata": {},
   "outputs": [
    {
     "data": {
      "text/plain": [
       "<HDF5 group \"/Data\" (0 members)>"
      ]
     },
     "execution_count": 5,
     "metadata": {},
     "output_type": "execute_result"
    }
   ],
   "source": [
    "f.create_group(\"Header\")\n",
    "f.create_group(\"Data\")"
   ]
  },
  {
   "cell_type": "code",
   "execution_count": 6,
   "id": "33b02336",
   "metadata": {},
   "outputs": [
    {
     "data": {
      "text/plain": [
       "['Data', 'Header']"
      ]
     },
     "execution_count": 6,
     "metadata": {},
     "output_type": "execute_result"
    }
   ],
   "source": [
    "# Para consultar lo que hay en un archivo, usamos .keys()\n",
    "list(f.keys())"
   ]
  },
  {
   "cell_type": "code",
   "execution_count": 8,
   "id": "fb1c32cf",
   "metadata": {},
   "outputs": [],
   "source": [
    "# Cargamos datos del ejemplo de la clase:\n",
    "import numpy as np\n",
    "\n",
    "rand1 = np.loadtxt(\"/Users/valentina/HCAIA2023/clases/clases20oct/datos.txt\", unpack=True) "
   ]
  },
  {
   "cell_type": "code",
   "execution_count": 9,
   "id": "04856aa3",
   "metadata": {},
   "outputs": [],
   "source": [
    "f = h5py.File(\"test.h5\", \"r+\") "
   ]
  },
  {
   "cell_type": "code",
   "execution_count": 10,
   "id": "21590612",
   "metadata": {},
   "outputs": [],
   "source": [
    "# Almacenamos nuestro array:\n",
    "f[\"rand1\"] = rand1"
   ]
  },
  {
   "cell_type": "code",
   "execution_count": 11,
   "id": "b682fbce",
   "metadata": {},
   "outputs": [],
   "source": [
    "f.close()"
   ]
  },
  {
   "cell_type": "code",
   "execution_count": 12,
   "id": "172a6403",
   "metadata": {},
   "outputs": [],
   "source": [
    "# También puedo agregar datos dentro de los grupos:\n",
    "f = h5py.File(\"test.h5\", \"r+\") \n",
    "f[\"Data/rand2\"] = rand1+10.7"
   ]
  },
  {
   "cell_type": "code",
   "execution_count": 13,
   "id": "57c6ab80",
   "metadata": {},
   "outputs": [],
   "source": [
    "f.close()"
   ]
  },
  {
   "cell_type": "code",
   "execution_count": 14,
   "id": "2c8d284b",
   "metadata": {},
   "outputs": [],
   "source": [
    "# Incluso, los grupos nuevos se crean automáticamente al momento de almacenar un dataset:\n",
    "f = h5py.File(\"test.h5\", \"r+\") \n",
    "f[\"DataBad/rand3\"] = rand1/0.68"
   ]
  },
  {
   "cell_type": "code",
   "execution_count": 15,
   "id": "f55130c2",
   "metadata": {},
   "outputs": [],
   "source": [
    "f.close()"
   ]
  },
  {
   "cell_type": "code",
   "execution_count": 16,
   "id": "e10651b3",
   "metadata": {},
   "outputs": [],
   "source": [
    "f = h5py.File(\"test.h5\", \"r\")"
   ]
  },
  {
   "cell_type": "code",
   "execution_count": 17,
   "id": "4c6dca4a",
   "metadata": {},
   "outputs": [
    {
     "data": {
      "text/plain": [
       "array([-2.048246  , -0.5105551 , -2.389003  , -1.037564  ,  1.018077  ,\n",
       "       -0.01839872, -1.482959  , -0.00950664,  0.4584328 ,  0.7060484 ,\n",
       "        0.3610645 ,  0.06651245,  0.951426  , -1.293034  , -0.5520354 ,\n",
       "        2.327455  ,  1.344347  ,  0.5205175 ,  0.2938691 , -0.2490077 ,\n",
       "        0.06767003, -2.1958    ,  0.2892564 ,  1.308069  , -0.3209628 ,\n",
       "        0.5437296 , -0.663104  ,  0.8953657 , -0.1071294 ,  1.400976  ,\n",
       "        0.5807881 , -0.6878861 ,  0.1691942 , -0.4336971 ,  1.322782  ,\n",
       "        0.45061   ,  1.082076  ,  1.479027  , -0.3757852 , -0.7226618 ,\n",
       "        0.5207709 ,  1.060043  ,  0.5492413 ,  0.7877528 ,  0.9699594 ,\n",
       "       -2.133273  , -0.0684703 , -2.107775  , -2.40396   , -0.01388726])"
      ]
     },
     "execution_count": 17,
     "metadata": {},
     "output_type": "execute_result"
    }
   ],
   "source": [
    "# utilizando el label y el operador de indexación se puede acceder al contenido del archivo:\n",
    "f['rand1'][:50]"
   ]
  },
  {
   "cell_type": "code",
   "execution_count": 18,
   "id": "faeb8bc9",
   "metadata": {},
   "outputs": [],
   "source": [
    "# Para trabajar con los datos del HDF5, es conveniente copiar los valores a la memoria RAM:\n",
    "mi_array= f['rand1'][:]"
   ]
  },
  {
   "cell_type": "code",
   "execution_count": 19,
   "id": "5bcd2887",
   "metadata": {},
   "outputs": [
    {
     "data": {
      "text/plain": [
       "array([-2.048246 , -0.5105551, -2.389003 , ...,  0.2388692, -1.931942 ,\n",
       "        0.3491738])"
      ]
     },
     "execution_count": 19,
     "metadata": {},
     "output_type": "execute_result"
    }
   ],
   "source": [
    "mi_array"
   ]
  },
  {
   "cell_type": "code",
   "execution_count": 46,
   "id": "6804614a",
   "metadata": {},
   "outputs": [],
   "source": [
    "#Modificar el mismo archivo para usar atributos\n",
    "\n",
    "f = h5py.File(\"test.h5\", \"r+\") \n"
   ]
  },
  {
   "cell_type": "code",
   "execution_count": 47,
   "id": "b773fb46",
   "metadata": {},
   "outputs": [],
   "source": [
    "#fecha de creacion y lugar:\n",
    "#Version del codigo que utilize\n",
    "#Naturaleza de los datos \n",
    "#Opciones de compilaciones\n",
    "#Modificaciones a la version utilizada\n"
   ]
  },
  {
   "cell_type": "code",
   "execution_count": 48,
   "id": "6c15eec7",
   "metadata": {},
   "outputs": [
    {
     "data": {
      "text/plain": [
       "<Attributes of HDF5 object at 4694826720>"
      ]
     },
     "execution_count": 48,
     "metadata": {},
     "output_type": "execute_result"
    }
   ],
   "source": [
    "#attrs tipo de objeto que administra y manipular los atributos de la referencia que lo llama\n",
    "\n",
    "f.attrs"
   ]
  },
  {
   "cell_type": "code",
   "execution_count": 49,
   "id": "2423d776",
   "metadata": {},
   "outputs": [
    {
     "data": {
      "text/plain": [
       "h5py._hl.attrs.AttributeManager"
      ]
     },
     "execution_count": 49,
     "metadata": {},
     "output_type": "execute_result"
    }
   ],
   "source": [
    "type(f.attrs)"
   ]
  },
  {
   "cell_type": "code",
   "execution_count": 50,
   "id": "8fd3a2d7",
   "metadata": {},
   "outputs": [
    {
     "data": {
      "text/plain": [
       "<KeysViewHDF5 ['Date', 'Description', 'numeroentero']>"
      ]
     },
     "execution_count": 50,
     "metadata": {},
     "output_type": "execute_result"
    }
   ],
   "source": [
    "#Consulta los attrs de grupo y \n",
    "\n",
    "f.attrs.keys()"
   ]
  },
  {
   "cell_type": "code",
   "execution_count": 51,
   "id": "2eb98ffe",
   "metadata": {},
   "outputs": [],
   "source": [
    "f.attrs['Description'] = 'Este es un archivo de ejemplo creado en clases'"
   ]
  },
  {
   "cell_type": "code",
   "execution_count": 52,
   "id": "2266289e",
   "metadata": {},
   "outputs": [
    {
     "data": {
      "text/plain": [
       "<KeysViewHDF5 ['Date', 'Description', 'numeroentero']>"
      ]
     },
     "execution_count": 52,
     "metadata": {},
     "output_type": "execute_result"
    }
   ],
   "source": [
    "f.attrs.keys()"
   ]
  },
  {
   "cell_type": "code",
   "execution_count": 53,
   "id": "c10d5889",
   "metadata": {},
   "outputs": [],
   "source": [
    "f.attrs['Date'] = \"14.11.2023\""
   ]
  },
  {
   "cell_type": "code",
   "execution_count": 54,
   "id": "bba2bace",
   "metadata": {},
   "outputs": [
    {
     "data": {
      "text/plain": [
       "<KeysViewHDF5 ['Date', 'Description', 'numeroentero']>"
      ]
     },
     "execution_count": 54,
     "metadata": {},
     "output_type": "execute_result"
    }
   ],
   "source": [
    "f.attrs.keys()"
   ]
  },
  {
   "cell_type": "code",
   "execution_count": 55,
   "id": "bb90a553",
   "metadata": {},
   "outputs": [],
   "source": [
    "f.attrs['numeroentero'] = 7"
   ]
  },
  {
   "cell_type": "code",
   "execution_count": null,
   "id": "29db5cf2",
   "metadata": {},
   "outputs": [],
   "source": [
    "#Agregar información a niestro grupo \"Header\""
   ]
  },
  {
   "cell_type": "code",
   "execution_count": 58,
   "id": "22423a13",
   "metadata": {},
   "outputs": [
    {
     "data": {
      "text/plain": [
       "<KeysViewHDF5 []>"
      ]
     },
     "execution_count": 58,
     "metadata": {},
     "output_type": "execute_result"
    }
   ],
   "source": [
    "f['Header'].attrs.keys() "
   ]
  },
  {
   "cell_type": "code",
   "execution_count": 59,
   "id": "1603e368",
   "metadata": {},
   "outputs": [],
   "source": [
    "#Metodo 1\n",
    "\n",
    "f['Header'].attrs['Clase'] = 'HCAI 2023'"
   ]
  },
  {
   "cell_type": "code",
   "execution_count": 65,
   "id": "cc5cc6ed",
   "metadata": {},
   "outputs": [],
   "source": [
    "#Metodo 2\n",
    "\n",
    "g = f['Header']\n",
    "g.attrs['Clima'] = 'Sunny'"
   ]
  },
  {
   "cell_type": "code",
   "execution_count": 68,
   "id": "4503e916",
   "metadata": {},
   "outputs": [],
   "source": [
    "#Metodo 3\n",
    "\n",
    "a = g.attrs\n",
    "a['Hora'] = '12.44'"
   ]
  },
  {
   "cell_type": "code",
   "execution_count": 69,
   "id": "004d2bb8",
   "metadata": {},
   "outputs": [
    {
     "data": {
      "text/plain": [
       "<KeysViewHDF5 ['Clase', 'Clima', 'Hora']>"
      ]
     },
     "execution_count": 69,
     "metadata": {},
     "output_type": "execute_result"
    }
   ],
   "source": [
    "#Consultamos los atributos creados:\n",
    "\n",
    "f['Header'].attrs.keys()"
   ]
  },
  {
   "cell_type": "code",
   "execution_count": 71,
   "id": "da5fe4b1",
   "metadata": {},
   "outputs": [],
   "source": [
    "#Tambien podemos asociar atributos a data set:\n",
    "\n",
    "f['Data'].attrs['Description'] = 'Array de numeros aleatorios que siguen una distribucion normal con sigma en 0'"
   ]
  },
  {
   "cell_type": "code",
   "execution_count": 72,
   "id": "5547c296",
   "metadata": {},
   "outputs": [],
   "source": [
    "f.close()"
   ]
  },
  {
   "cell_type": "code",
   "execution_count": null,
   "id": "e0d05e90",
   "metadata": {},
   "outputs": [],
   "source": []
  },
  {
   "cell_type": "code",
   "execution_count": null,
   "id": "0de9e911",
   "metadata": {},
   "outputs": [],
   "source": []
  },
  {
   "cell_type": "code",
   "execution_count": null,
   "id": "159c290e",
   "metadata": {},
   "outputs": [],
   "source": []
  },
  {
   "cell_type": "code",
   "execution_count": null,
   "id": "fe5962ba",
   "metadata": {},
   "outputs": [],
   "source": []
  },
  {
   "cell_type": "code",
   "execution_count": 61,
   "id": "dfa94f14",
   "metadata": {},
   "outputs": [],
   "source": []
  },
  {
   "cell_type": "code",
   "execution_count": null,
   "id": "88517e4f",
   "metadata": {},
   "outputs": [],
   "source": []
  },
  {
   "cell_type": "code",
   "execution_count": null,
   "id": "102fda7b",
   "metadata": {},
   "outputs": [],
   "source": []
  },
  {
   "cell_type": "code",
   "execution_count": null,
   "id": "62a2b839",
   "metadata": {},
   "outputs": [],
   "source": []
  }
 ],
 "metadata": {
  "kernelspec": {
   "display_name": "Python 3 (ipykernel)",
   "language": "python",
   "name": "python3"
  },
  "language_info": {
   "codemirror_mode": {
    "name": "ipython",
    "version": 3
   },
   "file_extension": ".py",
   "mimetype": "text/x-python",
   "name": "python",
   "nbconvert_exporter": "python",
   "pygments_lexer": "ipython3",
   "version": "3.10.9"
  }
 },
 "nbformat": 4,
 "nbformat_minor": 5
}
