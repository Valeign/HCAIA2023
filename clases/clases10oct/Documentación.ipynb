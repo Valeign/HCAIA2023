{
 "cells": [
  {
   "cell_type": "markdown",
   "id": "8b2e5797",
   "metadata": {},
   "source": [
    "# Funcion documentada"
   ]
  },
  {
   "cell_type": "code",
   "execution_count": 1,
   "id": "16d2f2e7",
   "metadata": {},
   "outputs": [],
   "source": [
    "def suma(a, b):\n",
    "    \"\"\"\n",
    "    Suma dos nùmeros y devuelve el resultado\n",
    "    \n",
    "    Parametros:\n",
    "    - a (int o float): Primer nùmero.\n",
    "    - b (int o float): Segundo numero.\n",
    "    \n",
    "    Retorna:\n",
    "    \n",
    "    - int o float: suma de a y b\n",
    "    \"\"\"\n",
    "    \n",
    "    return a + b\n"
   ]
  },
  {
   "cell_type": "markdown",
   "id": "9dbf681c",
   "metadata": {},
   "source": [
    "# Clase documentada"
   ]
  },
  {
   "cell_type": "code",
   "execution_count": 3,
   "id": "393de1fe",
   "metadata": {},
   "outputs": [
    {
     "ename": "SyntaxError",
     "evalue": "'return' outside function (3893639483.py, line 16)",
     "output_type": "error",
     "traceback": [
      "\u001b[0;36m  Cell \u001b[0;32mIn[3], line 16\u001b[0;36m\u001b[0m\n\u001b[0;31m    return 3.14 * self.radio * self.radio\u001b[0m\n\u001b[0m    ^\u001b[0m\n\u001b[0;31mSyntaxError\u001b[0m\u001b[0;31m:\u001b[0m 'return' outside function\n"
     ]
    }
   ],
   "source": [
    "class Circulo:\n",
    "    \"\"\"\n",
    "    Representa un circulo con un radio dado.\n",
    "    \n",
    "    Atributos:\n",
    "    -radio (float): Radio del circulo.\n",
    "    -perimetro: devuelve el perimetro del circulo\n",
    "    \n",
    "    \"\"\"\n",
    "    def __init__(self, radio):\n",
    "        \"\"\"Inicializa el circulo con el radio dado\"\"\"\n",
    "        self.radio = radio\n",
    "        \n",
    "    def area(self):\n",
    "        \"\"\"Devuelve el perimetro del circulo\"\"\"\n",
    "    return 3.14 * self.radio * self.radio\n",
    "\n",
    "    def perimetri(self):\n",
    "        \"\"\"Devuelve el perimetro del circulo\"\"\"\n",
    "    return 2 * 3.14* self.radio"
   ]
  }
 ],
 "metadata": {
  "kernelspec": {
   "display_name": "Python 3 (ipykernel)",
   "language": "python",
   "name": "python3"
  },
  "language_info": {
   "codemirror_mode": {
    "name": "ipython",
    "version": 3
   },
   "file_extension": ".py",
   "mimetype": "text/x-python",
   "name": "python",
   "nbconvert_exporter": "python",
   "pygments_lexer": "ipython3",
   "version": "3.10.9"
  }
 },
 "nbformat": 4,
 "nbformat_minor": 5
}
