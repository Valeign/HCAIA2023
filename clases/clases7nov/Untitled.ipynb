{
 "cells": [
  {
   "cell_type": "code",
   "execution_count": 1,
   "id": "7c8a36f0",
   "metadata": {},
   "outputs": [],
   "source": [
    "#Leer archivos de forma bruta:\n",
    "import numpy as np\n",
    "import random"
   ]
  },
  {
   "cell_type": "code",
   "execution_count": 4,
   "id": "75021a78",
   "metadata": {},
   "outputs": [
    {
     "name": "stderr",
     "output_type": "stream",
     "text": [
      "/var/folders/p4/6fc3g3rx7l52xzpbq73z_9vr0000gn/T/ipykernel_62289/3264467374.py:1: UserWarning: loadtxt: input contained no data: \"datos.txt\"\n",
      "  datos = np.loadtxt('datos.txt')\n"
     ]
    }
   ],
   "source": [
    "datos = np.loadtxt('datos.txt')"
   ]
  },
  {
   "cell_type": "code",
   "execution_count": 6,
   "id": "79c58bd9",
   "metadata": {},
   "outputs": [
    {
     "name": "stdout",
     "output_type": "stream",
     "text": [
      "[]\n"
     ]
    }
   ],
   "source": [
    "print(datos)"
   ]
  }
 ],
 "metadata": {
  "kernelspec": {
   "display_name": "Python 3 (ipykernel)",
   "language": "python",
   "name": "python3"
  },
  "language_info": {
   "codemirror_mode": {
    "name": "ipython",
    "version": 3
   },
   "file_extension": ".py",
   "mimetype": "text/x-python",
   "name": "python",
   "nbconvert_exporter": "python",
   "pygments_lexer": "ipython3",
   "version": "3.10.9"
  }
 },
 "nbformat": 4,
 "nbformat_minor": 5
}
