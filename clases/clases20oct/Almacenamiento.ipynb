{
 "cells": [
  {
   "cell_type": "markdown",
   "id": "12431dc0",
   "metadata": {},
   "source": [
    "# Generar un archivo de texto de formato libre"
   ]
  },
  {
   "cell_type": "code",
   "execution_count": 1,
   "id": "11524a02",
   "metadata": {},
   "outputs": [],
   "source": [
    "import numpy as np\n",
    "import random"
   ]
  },
  {
   "cell_type": "code",
   "execution_count": 2,
   "id": "8f74745a",
   "metadata": {},
   "outputs": [],
   "source": [
    "datos = np.random.normal(size=1500000)"
   ]
  },
  {
   "cell_type": "code",
   "execution_count": 6,
   "id": "fca04703",
   "metadata": {},
   "outputs": [],
   "source": [
    "with open (\"datos.txt\", 'w') as f:\n",
    "    for i in datos:\n",
    "        f.write(\"{: .7}\\n\".format(i))"
   ]
  },
  {
   "cell_type": "code",
   "execution_count": 7,
   "id": "a356d3dd",
   "metadata": {},
   "outputs": [],
   "source": [
    "fp = open('datos.txt', 'w')"
   ]
  },
  {
   "cell_type": "code",
   "execution_count": 9,
   "id": "e9c125ba",
   "metadata": {},
   "outputs": [
    {
     "data": {
      "text/plain": [
       "22"
      ]
     },
     "execution_count": 9,
     "metadata": {},
     "output_type": "execute_result"
    }
   ],
   "source": [
    "fp.write('# esta es otra linea \\n')"
   ]
  },
  {
   "cell_type": "code",
   "execution_count": 10,
   "id": "814f0ed1",
   "metadata": {},
   "outputs": [],
   "source": [
    "fp.close()"
   ]
  },
  {
   "cell_type": "code",
   "execution_count": 12,
   "id": "308438a9",
   "metadata": {},
   "outputs": [],
   "source": [
    "#Almacenamiento de tabla\n",
    "\n",
    "with open('tabla.txt', 'w') as f:\n",
    "    for i in range(len(datos)):\n",
    "        f.write('{:d} {: .5f}\\n'.format(i, datos[i]))"
   ]
  },
  {
   "cell_type": "code",
   "execution_count": 36,
   "id": "487a21d5",
   "metadata": {},
   "outputs": [
    {
     "data": {
      "text/plain": [
       "<function str.split(sep=None, maxsplit=-1)>"
      ]
     },
     "execution_count": 36,
     "metadata": {},
     "output_type": "execute_result"
    }
   ],
   "source": [
    "#Indicador de lectura:\n",
    "\n",
    "f = open('tabla.txt', 'r')\n",
    "l = f.readline()\n",
    "\n"
   ]
  },
  {
   "cell_type": "code",
   "execution_count": 37,
   "id": "ee370827",
   "metadata": {},
   "outputs": [
    {
     "data": {
      "text/plain": [
       "['0', '-0.52051']"
      ]
     },
     "execution_count": 37,
     "metadata": {},
     "output_type": "execute_result"
    }
   ],
   "source": [
    "l.split()"
   ]
  },
  {
   "cell_type": "code",
   "execution_count": 38,
   "id": "ea0f47fb",
   "metadata": {},
   "outputs": [
    {
     "data": {
      "text/plain": [
       "'-0.52051'"
      ]
     },
     "execution_count": 38,
     "metadata": {},
     "output_type": "execute_result"
    }
   ],
   "source": [
    "l.split()[1]"
   ]
  },
  {
   "cell_type": "code",
   "execution_count": 39,
   "id": "fa29aaf3",
   "metadata": {},
   "outputs": [
    {
     "data": {
      "text/plain": [
       "-0.52051"
      ]
     },
     "execution_count": 39,
     "metadata": {},
     "output_type": "execute_result"
    }
   ],
   "source": [
    "float(l.split()[1])"
   ]
  }
 ],
 "metadata": {
  "kernelspec": {
   "display_name": "Python 3 (ipykernel)",
   "language": "python",
   "name": "python3"
  },
  "language_info": {
   "codemirror_mode": {
    "name": "ipython",
    "version": 3
   },
   "file_extension": ".py",
   "mimetype": "text/x-python",
   "name": "python",
   "nbconvert_exporter": "python",
   "pygments_lexer": "ipython3",
   "version": "3.10.9"
  }
 },
 "nbformat": 4,
 "nbformat_minor": 5
}
