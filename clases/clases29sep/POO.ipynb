{
 "cells": [
  {
   "cell_type": "code",
   "execution_count": 8,
   "id": "546cc0e9",
   "metadata": {},
   "outputs": [],
   "source": [
    "class Complex:\n",
    "    def _init_(self, real, img):\n",
    "        self.r = real\n",
    "        self.i = img\n",
    "    \n",
    "    def __str__(self):\n",
    "        return str(self.r), \"+ i\", str(self.i)\n",
    "    \n",
    "    def __add__(self, c):\n",
    "        return Complex(self.r +c.r+self,i + c.i)"
   ]
  },
  {
   "cell_type": "code",
   "execution_count": 6,
   "id": "bff3ab8a",
   "metadata": {},
   "outputs": [
    {
     "data": {
      "text/plain": [
       "'15166553-5'"
      ]
     },
     "execution_count": 6,
     "metadata": {},
     "output_type": "execute_result"
    }
   ],
   "source": [
    "from dataclasses import dataclass\n",
    "\n",
    "@dataclass\n",
    "class Estudiante:\n",
    "    nombre: str\n",
    "    RUT: str\n",
    "    edad: str \n",
    "    nivel: str\n",
    "\n",
    "est = Estudiante('Valentina', '15166553-5', 22, 1)\n",
    "est.RUT"
   ]
  },
  {
   "cell_type": "code",
   "execution_count": 8,
   "id": "3bde18c3",
   "metadata": {},
   "outputs": [
    {
     "data": {
      "text/plain": [
       "'Valentina'"
      ]
     },
     "execution_count": 8,
     "metadata": {},
     "output_type": "execute_result"
    }
   ],
   "source": [
    "est.nombre"
   ]
  },
  {
   "cell_type": "code",
   "execution_count": 13,
   "id": "103255c2",
   "metadata": {},
   "outputs": [
    {
     "name": "stdout",
     "output_type": "stream",
     "text": [
      "Guau!\n",
      "Miau!\n",
      "Coco\n"
     ]
    }
   ],
   "source": [
    "#Herencia: \n",
    "\n",
    "#clase base\n",
    "\n",
    "class Animal:\n",
    "    def __init__(self, nombre):\n",
    "        self.nombre= nombre\n",
    "    \n",
    "    def hablar(self):\n",
    "        pass\n",
    "\n",
    "#Clase derivada\n",
    "class Perro(Animal):\n",
    "    def hablar(self):\n",
    "        return \"Guau!\"\n",
    "\n",
    "class Gato(Animal):\n",
    "    def hablar(self):\n",
    "        return \"Miau!\"\n",
    "\n",
    "class Gallo(Animal):\n",
    "    def hablar(self):\n",
    "        return \"Coco\"\n",
    "\n",
    "perro = Perro(\"Rex\")\n",
    "gato = Gato('Luna')\n",
    "gallo = Gallo('Gallo')\n",
    "\n",
    "print(perro.hablar())\n",
    "print(gato.hablar())\n",
    "print(gallo.hablar())"
   ]
  },
  {
   "cell_type": "code",
   "execution_count": null,
   "id": "2fb5685b",
   "metadata": {},
   "outputs": [],
   "source": []
  }
 ],
 "metadata": {
  "kernelspec": {
   "display_name": "Python 3 (ipykernel)",
   "language": "python",
   "name": "python3"
  },
  "language_info": {
   "codemirror_mode": {
    "name": "ipython",
    "version": 3
   },
   "file_extension": ".py",
   "mimetype": "text/x-python",
   "name": "python",
   "nbconvert_exporter": "python",
   "pygments_lexer": "ipython3",
   "version": "3.10.9"
  }
 },
 "nbformat": 4,
 "nbformat_minor": 5
}
