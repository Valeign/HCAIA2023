{
 "cells": [
  {
   "cell_type": "markdown",
   "id": "cfe70893",
   "metadata": {},
   "source": [
    "# Funcion super"
   ]
  },
  {
   "cell_type": "code",
   "execution_count": null,
   "id": "d3ff331a",
   "metadata": {},
   "outputs": [],
   "source": [
    "class A:\n",
    "    pass\n",
    "\n",
    "class B(A):\n",
    "    pass"
   ]
  },
  {
   "cell_type": "code",
   "execution_count": 5,
   "id": "44389be7",
   "metadata": {},
   "outputs": [
    {
     "name": "stdout",
     "output_type": "stream",
     "text": [
      "Ana 25 7\n"
     ]
    }
   ],
   "source": [
    "class Persona:\n",
    "    def __init__(self, nombre, edad):\n",
    "        self.nombre = nombre\n",
    "        self.edad = edad\n",
    "\n",
    "class Estudiantes(Persona):\n",
    "    def __init__(self, nombre, edad, nivel):\n",
    "        #Constructor de base:\n",
    "            super().__init__(nombre, edad)\n",
    "            self.nivel = nivel\n",
    "\n",
    "e = Estudiantes(\"Ana\", 25, 7)\n",
    "print(e.nombre, e.edad, e.nivel)"
   ]
  },
  {
   "cell_type": "code",
   "execution_count": 7,
   "id": "819ffa43",
   "metadata": {},
   "outputs": [
    {
     "name": "stdout",
     "output_type": "stream",
     "text": [
      "16\n"
     ]
    }
   ],
   "source": [
    "class Rectangulo:\n",
    "    def area(self, largo, ancho):\n",
    "        return largo*ancho\n",
    "\n",
    "\n",
    "class Cuadrado(Rectangulo):\n",
    "    def area(self, lado):\n",
    "        #Usamos método de la clase\n",
    "        return super().area(lado, lado)\n",
    "\n",
    "c = Cuadrado()\n",
    "print(c.area(4))"
   ]
  },
  {
   "cell_type": "markdown",
   "id": "73342867",
   "metadata": {},
   "source": [
    "# Encapsulamiento"
   ]
  },
  {
   "cell_type": "code",
   "execution_count": 14,
   "id": "bb20234d",
   "metadata": {},
   "outputs": [
    {
     "data": {
      "text/plain": [
       "1"
      ]
     },
     "execution_count": 14,
     "metadata": {},
     "output_type": "execute_result"
    }
   ],
   "source": [
    "class Miclase:\n",
    "    def __init__(self):\n",
    "        self._atprotected = 1\n",
    "        self.__alprivate = -1\n",
    "\n",
    "e = Miclase()\n",
    "e._atprotected\n",
    "\n",
    "    "
   ]
  },
  {
   "cell_type": "markdown",
   "id": "1dddd287",
   "metadata": {},
   "source": [
    "# Polimorfismo"
   ]
  },
  {
   "cell_type": "code",
   "execution_count": 16,
   "id": "cf0e3b6b",
   "metadata": {},
   "outputs": [
    {
     "name": "stdout",
     "output_type": "stream",
     "text": [
      "Miau!\n",
      "Guau!\n"
     ]
    }
   ],
   "source": [
    "#Funciones y objetos:\n",
    "\n",
    "class Gato:\n",
    "    def sonido(self):\n",
    "        return \"Miau!\"\n",
    "\n",
    "class Perro:\n",
    "    def sonido(self):\n",
    "        return \"Guau!\"\n",
    "\n",
    "def hacer_sonido(animal):\n",
    "    return animal.sonido()\n",
    "\n",
    "mi_perro = Perro()\n",
    "mi_gato = Gato()\n",
    "\n",
    "print(hacer_sonido(mi_gato))\n",
    "print(hacer_sonido(mi_perro))"
   ]
  },
  {
   "cell_type": "code",
   "execution_count": 17,
   "id": "cbac41b9",
   "metadata": {},
   "outputs": [
    {
     "name": "stdout",
     "output_type": "stream",
     "text": [
      "Miau!\n",
      "Guau!\n",
      "carf carf...\n"
     ]
    }
   ],
   "source": [
    "class Animal:\n",
    "    def sonido(self):\n",
    "        return \"carf carf...\"\n",
    "\n",
    "class Gato(Animal):\n",
    "    def sonido(self):\n",
    "        return \"Miau!\"\n",
    "\n",
    "class Perro(Animal):\n",
    "    def sonido(self):\n",
    "        return \"Guau!\"\n",
    "    \n",
    "animales = [Gato(), Perro(), Animal()]\n",
    "\n",
    "for animal in animales:\n",
    "    print(animal.sonido())"
   ]
  },
  {
   "cell_type": "markdown",
   "id": "085c4149",
   "metadata": {},
   "source": [
    "# Herencia múltiple"
   ]
  },
  {
   "cell_type": "code",
   "execution_count": 18,
   "id": "55a3ae69",
   "metadata": {},
   "outputs": [
    {
     "data": {
      "text/plain": [
       "[__main__.A, object]"
      ]
     },
     "execution_count": 18,
     "metadata": {},
     "output_type": "execute_result"
    }
   ],
   "source": [
    "class A:\n",
    "    pass\n",
    "\n",
    "A.mro()"
   ]
  },
  {
   "cell_type": "code",
   "execution_count": 19,
   "id": "3fad3e51",
   "metadata": {},
   "outputs": [],
   "source": [
    "class B:\n",
    "    pass\n"
   ]
  },
  {
   "cell_type": "code",
   "execution_count": 20,
   "id": "044dd415",
   "metadata": {},
   "outputs": [],
   "source": [
    "class C(A, B):\n",
    "    pass"
   ]
  },
  {
   "cell_type": "code",
   "execution_count": 21,
   "id": "11b58c84",
   "metadata": {},
   "outputs": [
    {
     "name": "stdout",
     "output_type": "stream",
     "text": [
      "Método de clase B\n",
      "[<class '__main__.D'>, <class '__main__.B'>, <class '__main__.C'>, <class '__main__.A'>, <class 'object'>]\n"
     ]
    }
   ],
   "source": [
    "class A:\n",
    "    def mostrar(self):\n",
    "        print('Método de clase A')\n",
    "        \n",
    "class B(A):\n",
    "    def mostrar(self):\n",
    "        print('Método de clase B')\n",
    "\n",
    "class C(A):\n",
    "    def mostrar(self):\n",
    "        print('Método de clase C')\n",
    "\n",
    "class D(B,C):\n",
    "    pass\n",
    "\n",
    "obj = D()\n",
    "obj.mostrar()\n",
    "\n",
    "print(D.mro())"
   ]
  },
  {
   "cell_type": "markdown",
   "id": "c2a788e4",
   "metadata": {},
   "source": [
    "# Composicion"
   ]
  },
  {
   "cell_type": "code",
   "execution_count": 22,
   "id": "284585a3",
   "metadata": {},
   "outputs": [],
   "source": [
    "class Motor: \n",
    "    def arrancar(self):\n",
    "        return \"El motor arranca\"\n",
    "    \n",
    "class Auto:\n",
    "    def __init__(self):\n",
    "        self.motor= Motor()\n",
    "    \n",
    "    def arrancar(self):\n",
    "        return self.motor.arrancar()"
   ]
  }
 ],
 "metadata": {
  "kernelspec": {
   "display_name": "Python 3 (ipykernel)",
   "language": "python",
   "name": "python3"
  },
  "language_info": {
   "codemirror_mode": {
    "name": "ipython",
    "version": 3
   },
   "file_extension": ".py",
   "mimetype": "text/x-python",
   "name": "python",
   "nbconvert_exporter": "python",
   "pygments_lexer": "ipython3",
   "version": "3.10.9"
  }
 },
 "nbformat": 4,
 "nbformat_minor": 5
}
