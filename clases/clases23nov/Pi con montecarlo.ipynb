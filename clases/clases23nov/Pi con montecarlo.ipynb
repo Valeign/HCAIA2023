{
 "cells": [
  {
   "cell_type": "code",
   "execution_count": 1,
   "id": "9e33239e",
   "metadata": {},
   "outputs": [],
   "source": [
    "import random as rnd\n",
    "\n",
    "# Creamos nuestra generadora de puntos:\n",
    "def new_point():\n",
    "    x = rnd.uniform(0, 1)\n",
    "    y = rnd.uniform(0, 1)\n",
    "    return x, y"
   ]
  },
  {
   "cell_type": "code",
   "execution_count": 2,
   "id": "38a60be1",
   "metadata": {},
   "outputs": [],
   "source": [
    "def check_circle(p):\n",
    "    r = (p[0]**2 + p[1]**2)**0.5\n",
    "    return (r <= 1.0)"
   ]
  },
  {
   "cell_type": "code",
   "execution_count": 3,
   "id": "3e5e1883",
   "metadata": {},
   "outputs": [],
   "source": [
    "import numpy as np"
   ]
  },
  {
   "cell_type": "code",
   "execution_count": null,
   "id": "ac77684a",
   "metadata": {},
   "outputs": [],
   "source": [
    "N = 10000\n",
    "n = np.arange(1, N+1)\n",
    "r = np.zeros_like(n)\n",
    "r_tot = 0\n",
    "\n",
    "for i in range(N):\n",
    "    p = new_point()\n",
    "    if check_circle(p): r_tot += 1\n",
    "    r[i] = r_tot"
   ]
  },
  {
   "cell_type": "code",
   "execution_count": null,
   "id": "b5bf72ba",
   "metadata": {},
   "outputs": [],
   "source": []
  }
 ],
 "metadata": {
  "kernelspec": {
   "display_name": "Python 3 (ipykernel)",
   "language": "python",
   "name": "python3"
  },
  "language_info": {
   "codemirror_mode": {
    "name": "ipython",
    "version": 3
   },
   "file_extension": ".py",
   "mimetype": "text/x-python",
   "name": "python",
   "nbconvert_exporter": "python",
   "pygments_lexer": "ipython3",
   "version": "3.10.9"
  }
 },
 "nbformat": 4,
 "nbformat_minor": 5
}
