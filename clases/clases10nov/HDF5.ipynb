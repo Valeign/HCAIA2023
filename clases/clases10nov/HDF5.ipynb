{
 "cells": [
  {
   "cell_type": "code",
   "execution_count": 1,
   "id": "46b49d6d",
   "metadata": {},
   "outputs": [],
   "source": [
    "import h5py"
   ]
  },
  {
   "cell_type": "code",
   "execution_count": 6,
   "id": "1d0df2c2",
   "metadata": {},
   "outputs": [],
   "source": [
    "h5py?"
   ]
  },
  {
   "cell_type": "code",
   "execution_count": 2,
   "id": "6b9e38c8",
   "metadata": {},
   "outputs": [],
   "source": [
    "f = h5py.File('test.h5', 'w')\n"
   ]
  },
  {
   "cell_type": "code",
   "execution_count": 3,
   "id": "2e66ab8c",
   "metadata": {},
   "outputs": [],
   "source": [
    "f.close()"
   ]
  },
  {
   "cell_type": "code",
   "execution_count": 4,
   "id": "b9b85ed7",
   "metadata": {},
   "outputs": [],
   "source": [
    "#abrimos el archivo anterior en modo escritura:\n",
    "\n",
    "f = h5py.File('test.h5', 'r+')"
   ]
  },
  {
   "cell_type": "code",
   "execution_count": 5,
   "id": "53f032e0",
   "metadata": {},
   "outputs": [
    {
     "data": {
      "text/plain": [
       "<HDF5 group \"/data\" (0 members)>"
      ]
     },
     "execution_count": 5,
     "metadata": {},
     "output_type": "execute_result"
    }
   ],
   "source": [
    "f.create_group('header')\n",
    "f.create_group('data')"
   ]
  },
  {
   "cell_type": "code",
   "execution_count": 6,
   "id": "2af4c5b4",
   "metadata": {},
   "outputs": [
    {
     "data": {
      "text/plain": [
       "<KeysViewHDF5 ['data', 'header']>"
      ]
     },
     "execution_count": 6,
     "metadata": {},
     "output_type": "execute_result"
    }
   ],
   "source": [
    "f.keys()"
   ]
  },
  {
   "cell_type": "code",
   "execution_count": 11,
   "id": "cc38c82e",
   "metadata": {},
   "outputs": [],
   "source": [
    "f.close()"
   ]
  },
  {
   "cell_type": "code",
   "execution_count": null,
   "id": "34d5f9dd",
   "metadata": {},
   "outputs": [],
   "source": [
    "#Crear data sets"
   ]
  },
  {
   "cell_type": "code",
   "execution_count": 7,
   "id": "ed33b284",
   "metadata": {},
   "outputs": [],
   "source": [
    "import numpy as np"
   ]
  },
  {
   "cell_type": "code",
   "execution_count": 8,
   "id": "6f78ffe8",
   "metadata": {},
   "outputs": [],
   "source": [
    "rand1 = np.loadtxt('/Users/valentina/HCAIA2023/clases/clases20oct/datos.txt', \n",
    "                   unpack=True)"
   ]
  },
  {
   "cell_type": "code",
   "execution_count": null,
   "id": "23511b13",
   "metadata": {},
   "outputs": [],
   "source": []
  }
 ],
 "metadata": {
  "kernelspec": {
   "display_name": "Python 3 (ipykernel)",
   "language": "python",
   "name": "python3"
  },
  "language_info": {
   "codemirror_mode": {
    "name": "ipython",
    "version": 3
   },
   "file_extension": ".py",
   "mimetype": "text/x-python",
   "name": "python",
   "nbconvert_exporter": "python",
   "pygments_lexer": "ipython3",
   "version": "3.10.9"
  }
 },
 "nbformat": 4,
 "nbformat_minor": 5
}
