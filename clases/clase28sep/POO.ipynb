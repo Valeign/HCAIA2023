{
 "cells": [
  {
   "cell_type": "code",
   "execution_count": 18,
   "id": "cd6eb0db",
   "metadata": {},
   "outputs": [],
   "source": [
    "class Complex:\n",
    "    def __init__(self, r=5, i=3):\n",
    "        self.r = r\n",
    "        self.i = i\n",
    "    def mostrar(self):\n",
    "        print(str(self.r), \"+\", str(self.i), \"i\")\n",
    "        \n",
    "x = Complex()"
   ]
  },
  {
   "cell_type": "code",
   "execution_count": 19,
   "id": "cda58655",
   "metadata": {},
   "outputs": [
    {
     "data": {
      "text/plain": [
       "int"
      ]
     },
     "execution_count": 19,
     "metadata": {},
     "output_type": "execute_result"
    }
   ],
   "source": [
    "type(x.i)"
   ]
  },
  {
   "cell_type": "code",
   "execution_count": 20,
   "id": "176fc002",
   "metadata": {},
   "outputs": [
    {
     "data": {
      "text/plain": [
       "str"
      ]
     },
     "execution_count": 20,
     "metadata": {},
     "output_type": "execute_result"
    }
   ],
   "source": [
    "y = Complex(\"Hola\")\n",
    "type(y.r)"
   ]
  },
  {
   "cell_type": "code",
   "execution_count": 21,
   "id": "84d8483e",
   "metadata": {},
   "outputs": [
    {
     "data": {
      "text/plain": [
       "str"
      ]
     },
     "execution_count": 21,
     "metadata": {},
     "output_type": "execute_result"
    }
   ],
   "source": [
    "z = Complex('Hola', 'hola')\n",
    "type(z.r)"
   ]
  },
  {
   "cell_type": "code",
   "execution_count": 27,
   "id": "781edbc1",
   "metadata": {},
   "outputs": [
    {
     "name": "stdout",
     "output_type": "stream",
     "text": [
      "5 + 3 i\n"
     ]
    }
   ],
   "source": [
    "x.mostrar() "
   ]
  },
  {
   "cell_type": "code",
   "execution_count": 28,
   "id": "44c1524d",
   "metadata": {},
   "outputs": [
    {
     "name": "stdout",
     "output_type": "stream",
     "text": [
      "5 + 3 i\n"
     ]
    }
   ],
   "source": [
    "Complex.mostrar(x)"
   ]
  },
  {
   "cell_type": "code",
   "execution_count": 29,
   "id": "0be36afa",
   "metadata": {},
   "outputs": [
    {
     "name": "stdout",
     "output_type": "stream",
     "text": [
      "Hola + 3 i\n"
     ]
    }
   ],
   "source": [
    "Complex.mostrar(y)"
   ]
  },
  {
   "cell_type": "code",
   "execution_count": 30,
   "id": "e0118440",
   "metadata": {},
   "outputs": [
    {
     "name": "stdout",
     "output_type": "stream",
     "text": [
      "Hola + hola i\n"
     ]
    }
   ],
   "source": [
    "Complex.mostrar(z)"
   ]
  },
  {
   "cell_type": "code",
   "execution_count": 32,
   "id": "0b05e41d",
   "metadata": {},
   "outputs": [
    {
     "name": "stdout",
     "output_type": "stream",
     "text": [
      "0 + 3 i\n"
     ]
    }
   ],
   "source": [
    "x.r=0\n",
    "Complex.mostrar(x)"
   ]
  },
  {
   "cell_type": "code",
   "execution_count": 38,
   "id": "4314c69c",
   "metadata": {},
   "outputs": [
    {
     "name": "stdout",
     "output_type": "stream",
     "text": [
      "r + 3 i\n"
     ]
    }
   ],
   "source": [
    "x.r = \"r\"\n",
    "Complex.mostrar(x)"
   ]
  },
  {
   "cell_type": "code",
   "execution_count": 41,
   "id": "32d17a69",
   "metadata": {},
   "outputs": [],
   "source": [
    "class Dog:\n",
    "    \n",
    "    familia = 'canine'   #Atributo de clase\n",
    "    \n",
    "    def __init__(self, name):\n",
    "        self.name = name"
   ]
  },
  {
   "cell_type": "code",
   "execution_count": 45,
   "id": "94d0efd7",
   "metadata": {},
   "outputs": [],
   "source": [
    "d = Dog('Fido')\n",
    "e = Dog('Budy')"
   ]
  },
  {
   "cell_type": "code",
   "execution_count": 46,
   "id": "bb0fac1a",
   "metadata": {},
   "outputs": [
    {
     "data": {
      "text/plain": [
       "'Fido'"
      ]
     },
     "execution_count": 46,
     "metadata": {},
     "output_type": "execute_result"
    }
   ],
   "source": [
    "d.name"
   ]
  },
  {
   "cell_type": "code",
   "execution_count": 47,
   "id": "093b3bc0",
   "metadata": {},
   "outputs": [
    {
     "data": {
      "text/plain": [
       "'Budy'"
      ]
     },
     "execution_count": 47,
     "metadata": {},
     "output_type": "execute_result"
    }
   ],
   "source": [
    "e.name"
   ]
  },
  {
   "cell_type": "code",
   "execution_count": 48,
   "id": "616b7911",
   "metadata": {},
   "outputs": [
    {
     "data": {
      "text/plain": [
       "'canine'"
      ]
     },
     "execution_count": 48,
     "metadata": {},
     "output_type": "execute_result"
    }
   ],
   "source": [
    "e.familia"
   ]
  },
  {
   "cell_type": "code",
   "execution_count": 49,
   "id": "5aa26b33",
   "metadata": {},
   "outputs": [
    {
     "data": {
      "text/plain": [
       "'canine'"
      ]
     },
     "execution_count": 49,
     "metadata": {},
     "output_type": "execute_result"
    }
   ],
   "source": [
    "d.familia"
   ]
  },
  {
   "cell_type": "code",
   "execution_count": 50,
   "id": "28a9c2e5",
   "metadata": {},
   "outputs": [],
   "source": [
    "d = Dog('Lipi')\n",
    "e = Dog('Chocolate')"
   ]
  },
  {
   "cell_type": "code",
   "execution_count": 54,
   "id": "b7eca73c",
   "metadata": {},
   "outputs": [],
   "source": [
    "d.familia = 'gatos'"
   ]
  },
  {
   "cell_type": "code",
   "execution_count": 56,
   "id": "5c4ef112",
   "metadata": {},
   "outputs": [
    {
     "data": {
      "text/plain": [
       "'Chocolate'"
      ]
     },
     "execution_count": 56,
     "metadata": {},
     "output_type": "execute_result"
    }
   ],
   "source": [
    "d.name\n",
    "e.name"
   ]
  },
  {
   "cell_type": "code",
   "execution_count": 58,
   "id": "9689b29f",
   "metadata": {},
   "outputs": [
    {
     "data": {
      "text/plain": [
       "['play dead']"
      ]
     },
     "execution_count": 58,
     "metadata": {},
     "output_type": "execute_result"
    }
   ],
   "source": [
    "class Dog:\n",
    "    \n",
    "    familia = 'canine'   #Atributo de clase\n",
    "    \n",
    "    def __init__(self, name):\n",
    "        self.name = name\n",
    "        \n",
    "        self.tricks=[]\n",
    "        \n",
    "    def add_trick(self, trick):\n",
    "        self.tricks.append(trick)\n",
    "\n",
    "d = Dog('Fido')\n",
    "e = Dog('Buddy')\n",
    "\n",
    "d.add_trick('roll over')\n",
    "e.add_trick('play dead')\n",
    "d.tricks\n",
    "e.tricks\n"
   ]
  },
  {
   "cell_type": "code",
   "execution_count": 59,
   "id": "391b627b",
   "metadata": {},
   "outputs": [
    {
     "data": {
      "text/plain": [
       "['roll over', 'Hablar']"
      ]
     },
     "execution_count": 59,
     "metadata": {},
     "output_type": "execute_result"
    }
   ],
   "source": [
    "d.add_trick('Hablar')\n",
    "d.tricks\n"
   ]
  },
  {
   "cell_type": "code",
   "execution_count": null,
   "id": "421d1998",
   "metadata": {},
   "outputs": [],
   "source": []
  }
 ],
 "metadata": {
  "kernelspec": {
   "display_name": "Python 3 (ipykernel)",
   "language": "python",
   "name": "python3"
  },
  "language_info": {
   "codemirror_mode": {
    "name": "ipython",
    "version": 3
   },
   "file_extension": ".py",
   "mimetype": "text/x-python",
   "name": "python",
   "nbconvert_exporter": "python",
   "pygments_lexer": "ipython3",
   "version": "3.10.9"
  }
 },
 "nbformat": 4,
 "nbformat_minor": 5
}
