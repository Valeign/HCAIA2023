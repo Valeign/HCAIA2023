{
 "cells": [
  {
   "cell_type": "code",
   "execution_count": 1,
   "id": "a5296f4e",
   "metadata": {},
   "outputs": [],
   "source": [
    "import splusdata"
   ]
  },
  {
   "cell_type": "code",
   "execution_count": 2,
   "id": "0d277cd0",
   "metadata": {},
   "outputs": [
    {
     "name": "stdout",
     "output_type": "stream",
     "text": [
      "splus.cloud username: ValentinaContreras\n",
      "splus.cloud password: ········\n"
     ]
    }
   ],
   "source": [
    "conn = splusdata.connect()"
   ]
  },
  {
   "cell_type": "code",
   "execution_count": 4,
   "id": "803275a6",
   "metadata": {},
   "outputs": [
    {
     "name": "stdout",
     "output_type": "stream",
     "text": [
      "finished\n"
     ]
    }
   ],
   "source": [
    "table = conn.query('select id, ra, dec from dr2.detection_image where ra + dec > 200')\n",
    "\n"
   ]
  }
 ],
 "metadata": {
  "kernelspec": {
   "display_name": "Python 3 (ipykernel)",
   "language": "python",
   "name": "python3"
  },
  "language_info": {
   "codemirror_mode": {
    "name": "ipython",
    "version": 3
   },
   "file_extension": ".py",
   "mimetype": "text/x-python",
   "name": "python",
   "nbconvert_exporter": "python",
   "pygments_lexer": "ipython3",
   "version": "3.10.9"
  }
 },
 "nbformat": 4,
 "nbformat_minor": 5
}
