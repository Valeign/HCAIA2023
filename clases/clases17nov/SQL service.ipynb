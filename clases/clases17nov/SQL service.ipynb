{
 "cells": [
  {
   "cell_type": "code",
   "execution_count": 6,
   "id": "a5296f4e",
   "metadata": {},
   "outputs": [],
   "source": [
    "import splusdata"
   ]
  },
  {
   "cell_type": "code",
   "execution_count": 7,
   "id": "0d277cd0",
   "metadata": {},
   "outputs": [
    {
     "name": "stdout",
     "output_type": "stream",
     "text": [
      "splus.cloud username: ValentinaContreras\n",
      "splus.cloud password: ········\n"
     ]
    }
   ],
   "source": [
    "conn = splusdata.connect()"
   ]
  },
  {
   "cell_type": "code",
   "execution_count": 8,
   "id": "803275a6",
   "metadata": {},
   "outputs": [
    {
     "name": "stdout",
     "output_type": "stream",
     "text": [
      "finished\n"
     ]
    }
   ],
   "source": [
    "table = conn.query('select id, ra, dec from dr2.detection_image where ra + dec > 200')"
   ]
  },
  {
   "cell_type": "code",
   "execution_count": 12,
   "id": "4ba25aa6",
   "metadata": {},
   "outputs": [
    {
     "data": {
      "text/plain": [
       "<matplotlib.collections.PathCollection at 0x1444c5030>"
      ]
     },
     "execution_count": 12,
     "metadata": {},
     "output_type": "execute_result"
    },
    {
     "data": {
      "image/png": "[encoded data removed]",
      "text/plain": [
       "<Figure size 640x480 with 1 Axes>"
      ]
     },
     "metadata": {},
     "output_type": "display_data"
    }
   ],
   "source": [
    "import matplotlib.pyplot as plt\n",
    "\n",
    "#plot:\n",
    "\n",
    "plt.scatter(table['RA'], table['DEC'], s=0.2, color='purple')"
   ]
  },
  {
   "cell_type": "code",
   "execution_count": null,
   "id": "cc2df357",
   "metadata": {},
   "outputs": [],
   "source": []
  }
 ],
 "metadata": {
  "kernelspec": {
   "display_name": "Python 3 (ipykernel)",
   "language": "python",
   "name": "python3"
  },
  "language_info": {
   "codemirror_mode": {
    "name": "ipython",
    "version": 3
   },
   "file_extension": ".py",
   "mimetype": "text/x-python",
   "name": "python",
   "nbconvert_exporter": "python",
   "pygments_lexer": "ipython3",
   "version": "3.10.9"
  }
 },
 "nbformat": 4,
 "nbformat_minor": 5
}
