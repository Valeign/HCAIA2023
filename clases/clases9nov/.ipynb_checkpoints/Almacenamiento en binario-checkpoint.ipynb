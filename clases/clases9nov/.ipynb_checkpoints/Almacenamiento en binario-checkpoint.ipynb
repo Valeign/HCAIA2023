{
 "cells": [
  {
   "cell_type": "code",
   "execution_count": 13,
   "id": "4baea96a",
   "metadata": {},
   "outputs": [],
   "source": [
    "import numpy as np\n",
    "import struct"
   ]
  },
  {
   "cell_type": "code",
   "execution_count": 7,
   "id": "2f2535bd",
   "metadata": {},
   "outputs": [],
   "source": [
    "data = np.loadtxt('/Users/valentina/HCAIA2023/clases/clases20oct/datos.txt')"
   ]
  },
  {
   "cell_type": "code",
   "execution_count": 8,
   "id": "bb973894",
   "metadata": {},
   "outputs": [
    {
     "data": {
      "text/plain": [
       "array([-2.048246 , -0.5105551, -2.389003 , ...,  0.2388692, -1.931942 ,\n",
       "        0.3491738])"
      ]
     },
     "execution_count": 8,
     "metadata": {},
     "output_type": "execute_result"
    }
   ],
   "source": [
    "data"
   ]
  },
  {
   "cell_type": "code",
   "execution_count": 9,
   "id": "99955880",
   "metadata": {},
   "outputs": [
    {
     "data": {
      "text/plain": [
       "(1500000,)"
      ]
     },
     "execution_count": 9,
     "metadata": {},
     "output_type": "execute_result"
    }
   ],
   "source": [
    "rand1.shape"
   ]
  },
  {
   "cell_type": "code",
   "execution_count": 10,
   "id": "10efb638",
   "metadata": {},
   "outputs": [],
   "source": [
    "idxs= np.arange(1, data.shape[0])"
   ]
  },
  {
   "cell_type": "code",
   "execution_count": 25,
   "id": "c3654695",
   "metadata": {},
   "outputs": [],
   "source": [
    "dato1=5\n",
    "\n",
    "datobin=struct.pack('i', dato1)"
   ]
  },
  {
   "cell_type": "code",
   "execution_count": 26,
   "id": "b8ed0419",
   "metadata": {},
   "outputs": [
    {
     "data": {
      "text/plain": [
       "bytes"
      ]
     },
     "execution_count": 26,
     "metadata": {},
     "output_type": "execute_result"
    }
   ],
   "source": [
    "type(datobin)"
   ]
  },
  {
   "cell_type": "code",
   "execution_count": 27,
   "id": "ef678bde",
   "metadata": {},
   "outputs": [
    {
     "data": {
      "text/plain": [
       "b'\\x05\\x00\\x00\\x00'"
      ]
     },
     "execution_count": 27,
     "metadata": {},
     "output_type": "execute_result"
    }
   ],
   "source": [
    "datobin"
   ]
  },
  {
   "cell_type": "code",
   "execution_count": 28,
   "id": "d27efb69",
   "metadata": {},
   "outputs": [
    {
     "data": {
      "text/plain": [
       "b'ff\\xb6@'"
      ]
     },
     "execution_count": 28,
     "metadata": {},
     "output_type": "execute_result"
    }
   ],
   "source": [
    "dato2 = 5.7\n",
    "dato2bin = struct.pack('f', dato2)\n",
    "dato2bin"
   ]
  },
  {
   "cell_type": "code",
   "execution_count": 30,
   "id": "fae60a2a",
   "metadata": {},
   "outputs": [],
   "source": [
    "with open('escribiendo', 'wb') as f:\n",
    "    f.write(datobin)\n",
    "    f.write(dato2bin)\n",
    "    \n",
    "    #Tiene 8 bytes"
   ]
  },
  {
   "cell_type": "code",
   "execution_count": 31,
   "id": "48d25034",
   "metadata": {},
   "outputs": [
    {
     "name": "stdout",
     "output_type": "stream",
     "text": [
      "Almacenamiento en binario.ipynb  escribiendo\r\n"
     ]
    }
   ],
   "source": [
    "ls"
   ]
  },
  {
   "cell_type": "code",
   "execution_count": 32,
   "id": "cf1cc6d1",
   "metadata": {},
   "outputs": [
    {
     "name": "stdout",
     "output_type": "stream",
     "text": [
      "total 24\r\n",
      "drwxr-xr-x  19 valentina  staff   608B Nov  9 14:42 \u001b[34m..\u001b[m\u001b[m/\r\n",
      "drwxr-xr-x   3 valentina  staff    96B Nov  9 14:46 \u001b[34m.ipynb_checkpoints\u001b[m\u001b[m/\r\n",
      "-rw-r--r--   1 valentina  staff   4.9K Nov  9 15:21 Almacenamiento en binario.ipynb\r\n",
      "drwxr-xr-x   5 valentina  staff   160B Nov  9 15:21 \u001b[34m.\u001b[m\u001b[m/\r\n",
      "-rw-r--r--   1 valentina  staff     8B Nov  9 15:21 escribiendo\r\n"
     ]
    }
   ],
   "source": [
    "#Ver cuanto almacenamiento ocupa\n",
    "\n",
    "ls -lthra"
   ]
  },
  {
   "cell_type": "code",
   "execution_count": 34,
   "id": "5eca3f8f",
   "metadata": {},
   "outputs": [],
   "source": [
    "with open('escribiendo','rb') as f:\n",
    "    bindata = f.read()"
   ]
  },
  {
   "cell_type": "code",
   "execution_count": 35,
   "id": "04788724",
   "metadata": {},
   "outputs": [
    {
     "data": {
      "text/plain": [
       "8"
      ]
     },
     "execution_count": 35,
     "metadata": {},
     "output_type": "execute_result"
    }
   ],
   "source": [
    "len(bindata)"
   ]
  },
  {
   "cell_type": "code",
   "execution_count": 36,
   "id": "99863a92",
   "metadata": {},
   "outputs": [
    {
     "data": {
      "text/plain": [
       "(5, 5.699999809265137)"
      ]
     },
     "execution_count": 36,
     "metadata": {},
     "output_type": "execute_result"
    }
   ],
   "source": [
    "struct.unpack('if', bindata)"
   ]
  },
  {
   "cell_type": "code",
   "execution_count": 39,
   "id": "6dcf824a",
   "metadata": {},
   "outputs": [],
   "source": [
    "with open('escribiendo.vcr', 'wb') as f:\n",
    "    for value in data:\n",
    "        bin_data = struct.pack('f', value)\n",
    "        f.write(bin_data)\n",
    "    "
   ]
  },
  {
   "cell_type": "code",
   "execution_count": 41,
   "id": "26839826",
   "metadata": {},
   "outputs": [
    {
     "name": "stdout",
     "output_type": "stream",
     "text": [
      "Almacenamiento en binario.ipynb  escribiendo.vcr\r\n",
      "escribiendo\r\n"
     ]
    }
   ],
   "source": [
    "ls"
   ]
  },
  {
   "cell_type": "code",
   "execution_count": null,
   "id": "06dfaa34",
   "metadata": {},
   "outputs": [],
   "source": []
  },
  {
   "cell_type": "code",
   "execution_count": 38,
   "id": "df7ed726",
   "metadata": {},
   "outputs": [],
   "source": [
    "struct.pack?"
   ]
  },
  {
   "cell_type": "code",
   "execution_count": null,
   "id": "efdce5e1",
   "metadata": {},
   "outputs": [],
   "source": []
  },
  {
   "cell_type": "code",
   "execution_count": null,
   "id": "cb7b127a",
   "metadata": {},
   "outputs": [],
   "source": []
  },
  {
   "cell_type": "code",
   "execution_count": null,
   "id": "aeb7a137",
   "metadata": {},
   "outputs": [],
   "source": []
  }
 ],
 "metadata": {
  "kernelspec": {
   "display_name": "Python 3 (ipykernel)",
   "language": "python",
   "name": "python3"
  },
  "language_info": {
   "codemirror_mode": {
    "name": "ipython",
    "version": 3
   },
   "file_extension": ".py",
   "mimetype": "text/x-python",
   "name": "python",
   "nbconvert_exporter": "python",
   "pygments_lexer": "ipython3",
   "version": "3.10.9"
  }
 },
 "nbformat": 4,
 "nbformat_minor": 5
}
