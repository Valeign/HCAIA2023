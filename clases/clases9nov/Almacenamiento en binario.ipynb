{
 "cells": [
  {
   "cell_type": "code",
   "execution_count": 13,
   "id": "4baea96a",
   "metadata": {},
   "outputs": [],
   "source": [
    "import numpy as np\n",
    "import struct"
   ]
  },
  {
   "cell_type": "code",
   "execution_count": 7,
   "id": "7b82b929",
   "metadata": {},
   "outputs": [],
   "source": [
    "data = np.loadtxt('/Users/valentina/HCAIA2023/clases/clases20oct/datos.txt')"
   ]
  },
  {
   "cell_type": "code",
   "execution_count": 8,
   "id": "591d7767",
   "metadata": {},
   "outputs": [
    {
     "data": {
      "text/plain": [
       "array([-2.048246 , -0.5105551, -2.389003 , ...,  0.2388692, -1.931942 ,\n",
       "        0.3491738])"
      ]
     },
     "execution_count": 8,
     "metadata": {},
     "output_type": "execute_result"
    }
   ],
   "source": [
    "data"
   ]
  },
  {
   "cell_type": "code",
   "execution_count": 9,
   "id": "6b4204f3",
   "metadata": {},
   "outputs": [
    {
     "data": {
      "text/plain": [
       "(1500000,)"
      ]
     },
     "execution_count": 9,
     "metadata": {},
     "output_type": "execute_result"
    }
   ],
   "source": [
    "rand1.shape"
   ]
  },
  {
   "cell_type": "code",
   "execution_count": 10,
   "id": "6664b22a",
   "metadata": {},
   "outputs": [],
   "source": [
    "idxs= np.arange(1, data.shape[0])"
   ]
  },
  {
   "cell_type": "code",
   "execution_count": 25,
   "id": "d105a1eb",
   "metadata": {},
   "outputs": [],
   "source": [
    "dato1=5\n",
    "\n",
    "datobin=struct.pack('i', dato1)"
   ]
  },
  {
   "cell_type": "code",
   "execution_count": 26,
   "id": "e43e9df2",
   "metadata": {},
   "outputs": [
    {
     "data": {
      "text/plain": [
       "bytes"
      ]
     },
     "execution_count": 26,
     "metadata": {},
     "output_type": "execute_result"
    }
   ],
   "source": [
    "type(datobin)"
   ]
  },
  {
   "cell_type": "code",
   "execution_count": 27,
   "id": "3adea54b",
   "metadata": {},
   "outputs": [
    {
     "data": {
      "text/plain": [
       "b'\\x05\\x00\\x00\\x00'"
      ]
     },
     "execution_count": 27,
     "metadata": {},
     "output_type": "execute_result"
    }
   ],
   "source": [
    "datobin"
   ]
  },
  {
   "cell_type": "code",
   "execution_count": 28,
   "id": "98fde6f6",
   "metadata": {},
   "outputs": [
    {
     "data": {
      "text/plain": [
       "b'ff\\xb6@'"
      ]
     },
     "execution_count": 28,
     "metadata": {},
     "output_type": "execute_result"
    }
   ],
   "source": [
    "dato2 = 5.7\n",
    "dato2bin = struct.pack('f', dato2)\n",
    "dato2bin"
   ]
  },
  {
   "cell_type": "code",
   "execution_count": 30,
   "id": "2491afc8",
   "metadata": {},
   "outputs": [],
   "source": [
    "with open('escribiendo', 'wb') as f:\n",
    "    f.write(datobin)\n",
    "    f.write(dato2bin)\n",
    "    \n",
    "    #Tiene 8 bytes"
   ]
  },
  {
   "cell_type": "code",
   "execution_count": 31,
   "id": "f1c3f9f7",
   "metadata": {},
   "outputs": [
    {
     "name": "stdout",
     "output_type": "stream",
     "text": [
      "Almacenamiento en binario.ipynb  escribiendo\r\n"
     ]
    }
   ],
   "source": [
    "ls"
   ]
  },
  {
   "cell_type": "code",
   "execution_count": 32,
   "id": "88626e1e",
   "metadata": {},
   "outputs": [
    {
     "name": "stdout",
     "output_type": "stream",
     "text": [
      "total 24\r\n",
      "drwxr-xr-x  19 valentina  staff   608B Nov  9 14:42 \u001b[34m..\u001b[m\u001b[m/\r\n",
      "drwxr-xr-x   3 valentina  staff    96B Nov  9 14:46 \u001b[34m.ipynb_checkpoints\u001b[m\u001b[m/\r\n",
      "-rw-r--r--   1 valentina  staff   4.9K Nov  9 15:21 Almacenamiento en binario.ipynb\r\n",
      "drwxr-xr-x   5 valentina  staff   160B Nov  9 15:21 \u001b[34m.\u001b[m\u001b[m/\r\n",
      "-rw-r--r--   1 valentina  staff     8B Nov  9 15:21 escribiendo\r\n"
     ]
    }
   ],
   "source": [
    "#Ver cuanto almacenamiento ocupa\n",
    "\n",
    "ls -lthra"
   ]
  },
  {
   "cell_type": "code",
   "execution_count": 34,
   "id": "775ba79a",
   "metadata": {},
   "outputs": [],
   "source": [
    "with open('escribiendo','rb') as f:\n",
    "    bindata = f.read()"
   ]
  },
  {
   "cell_type": "code",
   "execution_count": 35,
   "id": "3ae18a07",
   "metadata": {},
   "outputs": [
    {
     "data": {
      "text/plain": [
       "8"
      ]
     },
     "execution_count": 35,
     "metadata": {},
     "output_type": "execute_result"
    }
   ],
   "source": [
    "len(bindata)"
   ]
  },
  {
   "cell_type": "code",
   "execution_count": 36,
   "id": "9db8da9c",
   "metadata": {},
   "outputs": [
    {
     "data": {
      "text/plain": [
       "(5, 5.699999809265137)"
      ]
     },
     "execution_count": 36,
     "metadata": {},
     "output_type": "execute_result"
    }
   ],
   "source": [
    "struct.unpack('if', bindata)"
   ]
  },
  {
   "cell_type": "code",
   "execution_count": 39,
   "id": "20c169b7",
   "metadata": {},
   "outputs": [],
   "source": [
    "with open('escribiendo.vcr', 'wb') as f:\n",
    "    for value in data:\n",
    "        bin_data = struct.pack('f', value)\n",
    "        f.write(bin_data)\n",
    "    for value in data:\n",
    "        bin_data= struct.pack('f', value)\n",
    "        f.write()\n",
    "    "
   ]
  },
  {
   "cell_type": "code",
   "execution_count": 41,
   "id": "ccf12864",
   "metadata": {},
   "outputs": [
    {
     "name": "stdout",
     "output_type": "stream",
     "text": [
      "Almacenamiento en binario.ipynb  escribiendo.vcr\r\n",
      "escribiendo\r\n"
     ]
    }
   ],
   "source": [
    "ls"
   ]
  },
  {
   "cell_type": "code",
   "execution_count": 42,
   "id": "05cf9a43",
   "metadata": {},
   "outputs": [
    {
     "name": "stdout",
     "output_type": "stream",
     "text": [
      "total 11744\r\n",
      "drwxr-xr-x  19 valentina  staff   608B Nov  9 14:42 \u001b[34m..\u001b[m\u001b[m/\r\n",
      "drwxr-xr-x   3 valentina  staff    96B Nov  9 14:46 \u001b[34m.ipynb_checkpoints\u001b[m\u001b[m/\r\n",
      "-rw-r--r--   1 valentina  staff     8B Nov  9 15:21 escribiendo\r\n",
      "-rw-r--r--   1 valentina  staff   5.7M Nov  9 15:34 escribiendo.vcr\r\n",
      "-rw-r--r--   1 valentina  staff   6.5K Nov  9 15:34 Almacenamiento en binario.ipynb\r\n",
      "drwxr-xr-x   6 valentina  staff   192B Nov  9 15:34 \u001b[34m.\u001b[m\u001b[m/\r\n"
     ]
    }
   ],
   "source": [
    "ls -lthra"
   ]
  },
  {
   "cell_type": "code",
   "execution_count": null,
   "id": "317eb3bc",
   "metadata": {},
   "outputs": [],
   "source": []
  }
 ],
 "metadata": {
  "kernelspec": {
   "display_name": "Python 3 (ipykernel)",
   "language": "python",
   "name": "python3"
  },
  "language_info": {
   "codemirror_mode": {
    "name": "ipython",
    "version": 3
   },
   "file_extension": ".py",
   "mimetype": "text/x-python",
   "name": "python",
   "nbconvert_exporter": "python",
   "pygments_lexer": "ipython3",
   "version": "3.10.9"
  }
 },
 "nbformat": 4,
 "nbformat_minor": 5
}
